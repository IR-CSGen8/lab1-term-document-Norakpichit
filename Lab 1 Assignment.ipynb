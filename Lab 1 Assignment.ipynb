{
 "cells": [
  {
   "cell_type": "code",
   "execution_count": 1,
   "id": "34e21f62",
   "metadata": {},
   "outputs": [],
   "source": [
    "# Define the documents as a dictionary where keys are document titles and values are document content\n",
    "documents = {\n",
    "    \"Article: Pandas Basics\": \"This article covers the basics of using Pandas in Python.\",\n",
    "    \"Tutorial: Data Visualization\": \"Learn about data visualization techniques with Python libraries.\",\n",
    "    \"Case Study: Sales Analysis\": \"Analyze sales data using Python for a real-world case study.\"\n",
    "}"
   ]
  },
  {
   "cell_type": "code",
   "execution_count": 45,
   "id": "ee8fdf0c",
   "metadata": {},
   "outputs": [
    {
     "name": "stdout",
     "output_type": "stream",
     "text": [
      "['Article: Pandas Basics', 'Tutorial: Data Visualization', 'Case Study: Sales Analysis']\n"
     ]
    }
   ],
   "source": [
    "# get the keys of the documents and store it in the list\n",
    "key_documents = documents.keys()\n",
    "\n",
    "# display the list of the key documents\n",
    "\n",
    "key_documents = list(key_documents)\n",
    "print(key_documents)"
   ]
  },
  {
   "cell_type": "code",
   "execution_count": 14,
   "id": "e5398841",
   "metadata": {},
   "outputs": [
    {
     "data": {
      "text/plain": [
       "['Article', 'Tutorial', 'Case Study']"
      ]
     },
     "execution_count": 14,
     "metadata": {},
     "output_type": "execute_result"
    }
   ],
   "source": [
    "# Extract the category of the key documents and store it \n",
    "key_pairs = []\n",
    "for key in key_documents:\n",
    "    key_pairs.append(key.split(\":\"))\n",
    "\n",
    "categories = []\n",
    "for pair in key_pairs:\n",
    "    categories.append(pair[0])\n",
    "\n",
    "categories"
   ]
  },
  {
   "cell_type": "code",
   "execution_count": 48,
   "id": "a5353707",
   "metadata": {},
   "outputs": [
    {
     "name": "stdout",
     "output_type": "stream",
     "text": [
      "['This article covers the basics of using Pandas in Python.', 'Learn about data visualization techniques with Python libraries.', 'Analyze sales data using Python for a real-world case study.']\n"
     ]
    }
   ],
   "source": [
    "\n",
    "# Extract the content values and put them in a list\n",
    "document_content_list = documents.values()\n",
    "\n",
    "# Display the list of document content\n",
    "document_content_list = list(document_content_list)\n",
    "print(document_content_list)"
   ]
  },
  {
   "cell_type": "code",
   "execution_count": 49,
   "id": "bedcd86f",
   "metadata": {},
   "outputs": [
    {
     "data": {
      "text/plain": [
       "{'Analyze',\n",
       " 'Learn',\n",
       " 'Pandas',\n",
       " 'Python',\n",
       " 'Python.',\n",
       " 'This',\n",
       " 'a',\n",
       " 'about',\n",
       " 'article',\n",
       " 'basics',\n",
       " 'case',\n",
       " 'covers',\n",
       " 'data',\n",
       " 'for',\n",
       " 'in',\n",
       " 'libraries.',\n",
       " 'of',\n",
       " 'real-world',\n",
       " 'sales',\n",
       " 'study.',\n",
       " 'techniques',\n",
       " 'the',\n",
       " 'using',\n",
       " 'visualization',\n",
       " 'with'}"
      ]
     },
     "execution_count": 49,
     "metadata": {},
     "output_type": "execute_result"
    }
   ],
   "source": [
    "# Gather the set of all unique terms from the list content of document and diplay the result\n",
    "unique_terms = []\n",
    "\n",
    "for value in document_content_list:\n",
    "    for word in value.split():\n",
    "        unique_terms.append(word)\n",
    "\n",
    "unique_terms = set(unique_terms)\n",
    "unique_terms"
   ]
  },
  {
   "cell_type": "code",
   "execution_count": 50,
   "id": "41334ffd",
   "metadata": {},
   "outputs": [
    {
     "data": {
      "text/plain": [
       "{'sales': [0, 0, 1],\n",
       " 'This': [1, 0, 0],\n",
       " 'Analyze': [0, 0, 1],\n",
       " 'about': [0, 1, 0],\n",
       " 'data': [0, 1, 1],\n",
       " 'Pandas': [1, 0, 0],\n",
       " 'with': [0, 1, 0],\n",
       " 'using': [1, 0, 1],\n",
       " 'a': [1, 1, 1],\n",
       " 'visualization': [0, 1, 0],\n",
       " 'in': [1, 0, 1],\n",
       " 'the': [1, 0, 0],\n",
       " 'case': [0, 0, 1],\n",
       " 'study.': [0, 0, 1],\n",
       " 'covers': [1, 0, 0],\n",
       " 'Python.': [1, 0, 0],\n",
       " 'of': [1, 0, 0],\n",
       " 'for': [0, 0, 1],\n",
       " 'Learn': [0, 1, 0],\n",
       " 'basics': [1, 0, 0],\n",
       " 'Python': [1, 1, 1],\n",
       " 'libraries.': [0, 1, 0],\n",
       " 'real-world': [0, 0, 1],\n",
       " 'article': [1, 0, 0],\n",
       " 'techniques': [0, 1, 0]}"
      ]
     },
     "execution_count": 50,
     "metadata": {},
     "output_type": "execute_result"
    }
   ],
   "source": [
    "# create a matrix for the document by using the unique term\n",
    "doc_term_matrix = {}\n",
    "\n",
    "# your code here\n",
    "for word in unique_terms:\n",
    "    doc_term_matrix[word] = []\n",
    "    for content in document_content_list:\n",
    "        if word in content:\n",
    "            doc_term_matrix[word].append(1)\n",
    "        else:\n",
    "            doc_term_matrix[word].append(0)\n",
    "\n",
    "# display the result of the matrix\n",
    "doc_term_matrix"
   ]
  },
  {
   "cell_type": "code",
   "execution_count": 51,
   "id": "5cdd76ee-44f4-4026-bb12-f06f1120d352",
   "metadata": {},
   "outputs": [
    {
     "name": "stdout",
     "output_type": "stream",
     "text": [
      "True\n"
     ]
    }
   ],
   "source": [
    "x = [1,3,2]\n",
    "y = [3,2,1]\n",
    "\n",
    "print(set(x) == set(y))"
   ]
  },
  {
   "cell_type": "code",
   "execution_count": 58,
   "id": "2d40bd08-4652-47fc-ac8c-be51ea8b237e",
   "metadata": {},
   "outputs": [
    {
     "name": "stdout",
     "output_type": "stream",
     "text": [
      "[1 0 0]\n",
      "[1 1 1]\n",
      "-------\n",
      "[1 0 0]\n"
     ]
    },
    {
     "data": {
      "text/plain": [
       "['This article covers the basics of using Pandas in Python.']"
      ]
     },
     "execution_count": 58,
     "metadata": {},
     "output_type": "execute_result"
    }
   ],
   "source": [
    "# import the numpy library if it doesn't work you need to install numpy\n",
    "import numpy as np\n",
    "\n",
    "docs_array = np.array(document_content_list, dtype='object')\n",
    "\n",
    "v1 = np.array(doc_term_matrix['the'])    \n",
    "v2 = np.array(doc_term_matrix['Python'])\n",
    "\n",
    "print(v1)\n",
    "print(v2)\n",
    "print('-------')\n",
    "\n",
    "# find the documents that have both terms from v1 and v2\n",
    "v3 = v1 & v2\n",
    "\n",
    "print(v3)\n",
    "\n",
    "# display the content document from the result\n",
    "[doc for doc in v3 * docs_array if doc]"
   ]
  },
  {
   "cell_type": "code",
   "execution_count": 59,
   "id": "36b361cc-ab6b-4437-bb1d-f893cc898e75",
   "metadata": {},
   "outputs": [
    {
     "data": {
      "text/plain": [
       "array([1, 1, 1])"
      ]
     },
     "execution_count": 59,
     "metadata": {},
     "output_type": "execute_result"
    }
   ],
   "source": [
    "# find the document for those have at least one word\n",
    "v2"
   ]
  },
  {
   "cell_type": "code",
   "execution_count": 69,
   "id": "8e545e7d-5268-4570-84ad-b6061fe81d8a",
   "metadata": {},
   "outputs": [
    {
     "name": "stdout",
     "output_type": "stream",
     "text": [
      "Contents which contain the word using\n"
     ]
    },
    {
     "data": {
      "text/plain": [
       "['This article covers the basics of using Pandas in Python.',\n",
       " 'Analyze sales data using Python for a real-world case study.']"
      ]
     },
     "execution_count": 69,
     "metadata": {},
     "output_type": "execute_result"
    }
   ],
   "source": [
    "target = \"using\"\n",
    "\n",
    "print(\"Contents which contain the word {}\".format(target))\n",
    "v4 = np.array(doc_term_matrix[target])\n",
    "[doc for doc in v4 * docs_array if doc]"
   ]
  },
  {
   "cell_type": "code",
   "execution_count": null,
   "id": "e429137d-4d2c-4338-8e27-ccba94937d23",
   "metadata": {},
   "outputs": [],
   "source": []
  }
 ],
 "metadata": {
  "kernelspec": {
   "display_name": "Python 3 (ipykernel)",
   "language": "python",
   "name": "python3"
  },
  "language_info": {
   "codemirror_mode": {
    "name": "ipython",
    "version": 3
   },
   "file_extension": ".py",
   "mimetype": "text/x-python",
   "name": "python",
   "nbconvert_exporter": "python",
   "pygments_lexer": "ipython3",
   "version": "3.10.5"
  }
 },
 "nbformat": 4,
 "nbformat_minor": 5
}
